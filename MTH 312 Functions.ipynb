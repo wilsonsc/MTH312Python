{
 "cells": [
  {
   "cell_type": "markdown",
   "metadata": {
    "collapsed": true
   },
   "source": [
    "# Greatest Common Factor"
   ]
  },
  {
   "cell_type": "code",
   "execution_count": null,
   "metadata": {},
   "outputs": [],
   "source": [
    "# This function uses the Euclidean Algorithm to find the greatest\n",
    "#common factor of integers a and b    \n",
    "def gcf(a, b):\n",
    "    #checks if a is greater than b, if so, swaps the 2 values\n",
    "    if a > b:\n",
    "        temp = a\n",
    "        a = b\n",
    "        b = temp\n",
    "    #if neither number is 0, recursively call this function\n",
    "    if a != 0 and b != 0:\n",
    "        return gcf(b % a, a)\n",
    "    #if a has reached 0, return b (the gcf)\n",
    "    if a == 0:\n",
    "        return b        \n",
    "    \n",
    "#Test Function here        \n",
    "gcf(28,13)"
   ]
  },
  {
   "cell_type": "code",
   "execution_count": null,
   "metadata": {},
   "outputs": [],
   "source": [
    "gcf(28,12)"
   ]
  },
  {
   "cell_type": "markdown",
   "metadata": {},
   "source": [
    "# Multiplicitive Inverse"
   ]
  },
  {
   "cell_type": "code",
   "execution_count": null,
   "metadata": {
    "collapsed": true
   },
   "outputs": [],
   "source": [
    "#This function is used to find the multiplicitive inverse of \n",
    "#the format a*x % c  using the extended Euclidean algorithm\n",
    "#definition of the Extended Euclidean algorithm used from:\n",
    "#http://www-math.ucdenver.edu/~wcherowi/courses/m5410/exeucalg.html\n",
    "def multInverse(a, c, p = (0, 1), multiplier = (1,), modNum = 0):\n",
    "    #save the number to mod by to pass to recursive calls of function\n",
    "    if modNum == 0:\n",
    "        modNum = c\n",
    "    #check if there is a valid inverse before doing calculations\n",
    "    if gcf(a, c) != 1:\n",
    "        return \"There is no inverse\"\n",
    "    mod = c % a\n",
    "    #end condition of algorithm\n",
    "    if mod == 0:\n",
    "        return ((p[0] - (p[1] * multiplier[1])) % modNum)\n",
    "    #First pass through function, set the multiplier and recurse\n",
    "    if len(multiplier) is 1:\n",
    "        return multInverse(mod, a, p, (1,int(c/a)), modNum)\n",
    "    #Set up values for the next recursive call\n",
    "    newRemainder = (p[1], (p[0] - p[1]*multiplier[1]) % modNum) \n",
    "    newMult = (multiplier[1], int(c / a))\n",
    "    #Recursively call function\n",
    "    return multInverse(mod, a, newRemainder, newMult, modNum)\n",
    "\n",
    "#Test function here\n",
    "multInverse(28,14)"
   ]
  },
  {
   "cell_type": "markdown",
   "metadata": {},
   "source": [
    "# Totient Function"
   ]
  },
  {
   "cell_type": "code",
   "execution_count": 38,
   "metadata": {},
   "outputs": [
    {
     "data": {
      "text/plain": [
       "79357"
      ]
     },
     "execution_count": 38,
     "metadata": {},
     "output_type": "execute_result"
    }
   ],
   "source": [
    "# This function uses the Euclidean Algorithm to find the greatest\n",
    "#common factor of integers a and b    \n",
    "def gcf(a, b):\n",
    "    #checks if a is greater than b, if so, swaps the 2 values\n",
    "    if a > b:\n",
    "        temp = a\n",
    "        a = b\n",
    "        b = temp\n",
    "    #if neither number is 0, recursively call this function\n",
    "    if a != 0 and b != 0:\n",
    "        return gcf(b % a, a)\n",
    "    #if a has reached 0, return b (the gcf)\n",
    "    if a == 0:\n",
    "        return b        \n",
    "#This function calculates Euler's totient function of a given #number num.\n",
    "#A brute force algorithm is used upon every value up to num to find the phi value\n",
    "def totient(num):\n",
    "    #a counter of total current valid results\n",
    "    result = 0\n",
    "    for i in range(1,num):\n",
    "        #if the 2 values have a gcd of 1, increment the results counter\n",
    "        if gcf(i, num) is 1:\n",
    "            result+=1\n",
    "    return result\n",
    "\n",
    "#Test function here\n",
    "totient(79927)"
   ]
  },
  {
   "cell_type": "markdown",
   "metadata": {},
   "source": [
    "# Create Powers Table "
   ]
  },
  {
   "cell_type": "code",
   "execution_count": 9,
   "metadata": {},
   "outputs": [
    {
     "name": "stdout",
     "output_type": "stream",
     "text": [
      "[1, 1, 1, 1, 1, 1, 1]\n",
      "[2, 4, 0, 0, 0, 0, 0]\n",
      "[3, 1, 3, 1, 3, 1, 3]\n",
      "[4, 0, 0, 0, 0, 0, 0]\n",
      "[5, 1, 5, 1, 5, 1, 5]\n",
      "[6, 4, 0, 0, 0, 0, 0]\n",
      "[7, 1, 7, 1, 7, 1, 7]\n"
     ]
    }
   ],
   "source": [
    "#This function is used to print out the powers of integers table created from the in class learning activity related to Fermat's little theorem     \n",
    "def powersTable(p):\n",
    "\tfor i in range (1,p):\n",
    "\t\tans = []\n",
    "\t\tfor j in range(1,p):\n",
    "\t\t\tans.append(i**j % p)\n",
    "\t\tprint (ans)\n",
    "\n",
    "powersTable(8)"
   ]
  },
  {
   "cell_type": "markdown",
   "metadata": {},
   "source": [
    "# Hill Cipher Encryption"
   ]
  },
  {
   "cell_type": "code",
   "execution_count": 36,
   "metadata": {},
   "outputs": [
    {
     "name": "stdout",
     "output_type": "stream",
     "text": [
      "What secret message do you wish to encrypt? abkljsdfef\n",
      "hfOltLS0V9\n"
     ]
    }
   ],
   "source": [
    "def hillEncrypt(a, b, c, d):\n",
    "    #A representation of the 67 character alphabet used in this course\n",
    "    classAlpha = ['a', 'b', 'c', 'd', 'e', 'f', 'g', 'h', 'i', 'j', 'k', 'l', 'm', \n",
    "                 'n', 'o', 'p', 'q', 'r', 's', 't', 'u', 'v', 'w', 'x', 'y', 'z',\n",
    "                 'A', 'B', 'C', 'D', 'E', 'F', 'G', 'H', 'I', 'J', 'K', 'L', 'M',\n",
    "                 'N', 'O', 'P', 'Q', 'R', 'S', 'T', 'U', 'V', 'W', 'X', 'Y', 'Z', \n",
    "                 '0', '1', '2', '3', '4', '5', '6', '7', '8', '9', ' ', '.', ',', '!', '?']\n",
    "    encryptedMessage = \"\" \n",
    "    #Accept user input\n",
    "    message = input(\"What secret message do you wish to encrypt? \")\n",
    "    for index in range(len(message)):\n",
    "        if index % 2 == 0:\n",
    "            y1 = (a * classAlpha.index(message[index])) % len(classAlpha)\n",
    "            y2 = (c * classAlpha.index(message[index])) % len(classAlpha)\n",
    "        elif index % 2 == 1:\n",
    "            y1 = (y1 + b * classAlpha.index(message[index])) % len(classAlpha)\n",
    "            y2 = (y2 + d * classAlpha.index(message[index])) % len(classAlpha)\n",
    "            encryptedMessage += classAlpha[y1]\n",
    "            encryptedMessage += classAlpha[y2]\n",
    "    print(encryptedMessage)\n",
    "    \n",
    "hillEncrypt(3,7,9,5)"
   ]
  },
  {
   "cell_type": "code",
   "execution_count": null,
   "metadata": {
    "collapsed": true
   },
   "outputs": [],
   "source": []
  }
 ],
 "metadata": {
  "kernelspec": {
   "display_name": "Python 3",
   "language": "python",
   "name": "python3"
  }
 },
 "nbformat": 4,
 "nbformat_minor": 2
}
